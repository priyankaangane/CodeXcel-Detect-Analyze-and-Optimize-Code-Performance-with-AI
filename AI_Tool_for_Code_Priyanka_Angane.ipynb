{
  "nbformat": 4,
  "nbformat_minor": 0,
  "metadata": {
    "colab": {
      "provenance": []
    },
    "kernelspec": {
      "name": "python3",
      "display_name": "Python 3"
    },
    "language_info": {
      "name": "python"
    }
  },
  "cells": [
    {
      "cell_type": "markdown",
      "source": [
        "# AI Tool for Code Optimization\n",
        "\n"
      ],
      "metadata": {
        "id": "sBDjuwgf8RD4"
      }
    },
    {
      "cell_type": "code",
      "source": [
        "!pip install transformers tokenizers line-profiler memory-profiler gradio flake8"
      ],
      "metadata": {
        "colab": {
          "base_uri": "https://localhost:8080/"
        },
        "id": "aLFlLqGcL5IU",
        "outputId": "65e551b3-37b1-438e-b577-672047e0273f"
      },
      "execution_count": 13,
      "outputs": [
        {
          "output_type": "stream",
          "name": "stdout",
          "text": [
            "Requirement already satisfied: transformers in /usr/local/lib/python3.10/dist-packages (4.46.3)\n",
            "Requirement already satisfied: tokenizers in /usr/local/lib/python3.10/dist-packages (0.20.3)\n",
            "Requirement already satisfied: line-profiler in /usr/local/lib/python3.10/dist-packages (4.2.0)\n",
            "Requirement already satisfied: memory-profiler in /usr/local/lib/python3.10/dist-packages (0.61.0)\n",
            "Requirement already satisfied: gradio in /usr/local/lib/python3.10/dist-packages (5.8.0)\n",
            "Requirement already satisfied: flake8 in /usr/local/lib/python3.10/dist-packages (7.1.1)\n",
            "Requirement already satisfied: filelock in /usr/local/lib/python3.10/dist-packages (from transformers) (3.16.1)\n",
            "Requirement already satisfied: huggingface-hub<1.0,>=0.23.2 in /usr/local/lib/python3.10/dist-packages (from transformers) (0.26.3)\n",
            "Requirement already satisfied: numpy>=1.17 in /usr/local/lib/python3.10/dist-packages (from transformers) (1.26.4)\n",
            "Requirement already satisfied: packaging>=20.0 in /usr/local/lib/python3.10/dist-packages (from transformers) (24.2)\n",
            "Requirement already satisfied: pyyaml>=5.1 in /usr/local/lib/python3.10/dist-packages (from transformers) (6.0.2)\n",
            "Requirement already satisfied: regex!=2019.12.17 in /usr/local/lib/python3.10/dist-packages (from transformers) (2024.9.11)\n",
            "Requirement already satisfied: requests in /usr/local/lib/python3.10/dist-packages (from transformers) (2.32.3)\n",
            "Requirement already satisfied: safetensors>=0.4.1 in /usr/local/lib/python3.10/dist-packages (from transformers) (0.4.5)\n",
            "Requirement already satisfied: tqdm>=4.27 in /usr/local/lib/python3.10/dist-packages (from transformers) (4.66.6)\n",
            "Requirement already satisfied: psutil in /usr/local/lib/python3.10/dist-packages (from memory-profiler) (5.9.5)\n",
            "Requirement already satisfied: aiofiles<24.0,>=22.0 in /usr/local/lib/python3.10/dist-packages (from gradio) (23.2.1)\n",
            "Requirement already satisfied: anyio<5.0,>=3.0 in /usr/local/lib/python3.10/dist-packages (from gradio) (3.7.1)\n",
            "Requirement already satisfied: fastapi<1.0,>=0.115.2 in /usr/local/lib/python3.10/dist-packages (from gradio) (0.115.6)\n",
            "Requirement already satisfied: ffmpy in /usr/local/lib/python3.10/dist-packages (from gradio) (0.4.0)\n",
            "Requirement already satisfied: gradio-client==1.5.1 in /usr/local/lib/python3.10/dist-packages (from gradio) (1.5.1)\n",
            "Requirement already satisfied: httpx>=0.24.1 in /usr/local/lib/python3.10/dist-packages (from gradio) (0.28.0)\n",
            "Requirement already satisfied: jinja2<4.0 in /usr/local/lib/python3.10/dist-packages (from gradio) (3.1.4)\n",
            "Requirement already satisfied: markupsafe~=2.0 in /usr/local/lib/python3.10/dist-packages (from gradio) (2.1.5)\n",
            "Requirement already satisfied: orjson~=3.0 in /usr/local/lib/python3.10/dist-packages (from gradio) (3.10.12)\n",
            "Requirement already satisfied: pandas<3.0,>=1.0 in /usr/local/lib/python3.10/dist-packages (from gradio) (2.2.2)\n",
            "Requirement already satisfied: pillow<12.0,>=8.0 in /usr/local/lib/python3.10/dist-packages (from gradio) (11.0.0)\n",
            "Requirement already satisfied: pydantic>=2.0 in /usr/local/lib/python3.10/dist-packages (from gradio) (2.10.3)\n",
            "Requirement already satisfied: pydub in /usr/local/lib/python3.10/dist-packages (from gradio) (0.25.1)\n",
            "Requirement already satisfied: python-multipart>=0.0.18 in /usr/local/lib/python3.10/dist-packages (from gradio) (0.0.19)\n",
            "Requirement already satisfied: ruff>=0.2.2 in /usr/local/lib/python3.10/dist-packages (from gradio) (0.8.2)\n",
            "Requirement already satisfied: safehttpx<0.2.0,>=0.1.6 in /usr/local/lib/python3.10/dist-packages (from gradio) (0.1.6)\n",
            "Requirement already satisfied: semantic-version~=2.0 in /usr/local/lib/python3.10/dist-packages (from gradio) (2.10.0)\n",
            "Requirement already satisfied: starlette<1.0,>=0.40.0 in /usr/local/lib/python3.10/dist-packages (from gradio) (0.41.3)\n",
            "Requirement already satisfied: tomlkit<0.14.0,>=0.12.0 in /usr/local/lib/python3.10/dist-packages (from gradio) (0.13.2)\n",
            "Requirement already satisfied: typer<1.0,>=0.12 in /usr/local/lib/python3.10/dist-packages (from gradio) (0.15.0)\n",
            "Requirement already satisfied: typing-extensions~=4.0 in /usr/local/lib/python3.10/dist-packages (from gradio) (4.12.2)\n",
            "Requirement already satisfied: uvicorn>=0.14.0 in /usr/local/lib/python3.10/dist-packages (from gradio) (0.32.1)\n",
            "Requirement already satisfied: fsspec in /usr/local/lib/python3.10/dist-packages (from gradio-client==1.5.1->gradio) (2024.10.0)\n",
            "Requirement already satisfied: websockets<15.0,>=10.0 in /usr/local/lib/python3.10/dist-packages (from gradio-client==1.5.1->gradio) (14.1)\n",
            "Requirement already satisfied: mccabe<0.8.0,>=0.7.0 in /usr/local/lib/python3.10/dist-packages (from flake8) (0.7.0)\n",
            "Requirement already satisfied: pycodestyle<2.13.0,>=2.12.0 in /usr/local/lib/python3.10/dist-packages (from flake8) (2.12.1)\n",
            "Requirement already satisfied: pyflakes<3.3.0,>=3.2.0 in /usr/local/lib/python3.10/dist-packages (from flake8) (3.2.0)\n",
            "Requirement already satisfied: idna>=2.8 in /usr/local/lib/python3.10/dist-packages (from anyio<5.0,>=3.0->gradio) (3.10)\n",
            "Requirement already satisfied: sniffio>=1.1 in /usr/local/lib/python3.10/dist-packages (from anyio<5.0,>=3.0->gradio) (1.3.1)\n",
            "Requirement already satisfied: exceptiongroup in /usr/local/lib/python3.10/dist-packages (from anyio<5.0,>=3.0->gradio) (1.2.2)\n",
            "Requirement already satisfied: certifi in /usr/local/lib/python3.10/dist-packages (from httpx>=0.24.1->gradio) (2024.8.30)\n",
            "Requirement already satisfied: httpcore==1.* in /usr/local/lib/python3.10/dist-packages (from httpx>=0.24.1->gradio) (1.0.7)\n",
            "Requirement already satisfied: h11<0.15,>=0.13 in /usr/local/lib/python3.10/dist-packages (from httpcore==1.*->httpx>=0.24.1->gradio) (0.14.0)\n",
            "Requirement already satisfied: python-dateutil>=2.8.2 in /usr/local/lib/python3.10/dist-packages (from pandas<3.0,>=1.0->gradio) (2.8.2)\n",
            "Requirement already satisfied: pytz>=2020.1 in /usr/local/lib/python3.10/dist-packages (from pandas<3.0,>=1.0->gradio) (2024.2)\n",
            "Requirement already satisfied: tzdata>=2022.7 in /usr/local/lib/python3.10/dist-packages (from pandas<3.0,>=1.0->gradio) (2024.2)\n",
            "Requirement already satisfied: annotated-types>=0.6.0 in /usr/local/lib/python3.10/dist-packages (from pydantic>=2.0->gradio) (0.7.0)\n",
            "Requirement already satisfied: pydantic-core==2.27.1 in /usr/local/lib/python3.10/dist-packages (from pydantic>=2.0->gradio) (2.27.1)\n",
            "Requirement already satisfied: click>=8.0.0 in /usr/local/lib/python3.10/dist-packages (from typer<1.0,>=0.12->gradio) (8.1.7)\n",
            "Requirement already satisfied: shellingham>=1.3.0 in /usr/local/lib/python3.10/dist-packages (from typer<1.0,>=0.12->gradio) (1.5.4)\n",
            "Requirement already satisfied: rich>=10.11.0 in /usr/local/lib/python3.10/dist-packages (from typer<1.0,>=0.12->gradio) (13.9.4)\n",
            "Requirement already satisfied: charset-normalizer<4,>=2 in /usr/local/lib/python3.10/dist-packages (from requests->transformers) (3.4.0)\n",
            "Requirement already satisfied: urllib3<3,>=1.21.1 in /usr/local/lib/python3.10/dist-packages (from requests->transformers) (2.2.3)\n",
            "Requirement already satisfied: six>=1.5 in /usr/local/lib/python3.10/dist-packages (from python-dateutil>=2.8.2->pandas<3.0,>=1.0->gradio) (1.16.0)\n",
            "Requirement already satisfied: markdown-it-py>=2.2.0 in /usr/local/lib/python3.10/dist-packages (from rich>=10.11.0->typer<1.0,>=0.12->gradio) (3.0.0)\n",
            "Requirement already satisfied: pygments<3.0.0,>=2.13.0 in /usr/local/lib/python3.10/dist-packages (from rich>=10.11.0->typer<1.0,>=0.12->gradio) (2.18.0)\n",
            "Requirement already satisfied: mdurl~=0.1 in /usr/local/lib/python3.10/dist-packages (from markdown-it-py>=2.2.0->rich>=10.11.0->typer<1.0,>=0.12->gradio) (0.1.2)\n"
          ]
        }
      ]
    },
    {
      "cell_type": "markdown",
      "source": [
        "Snippet that can be used to check\n",
        "\n",
        "```\n",
        "def filter_even_numbers():\n",
        "    numbers = [i for i in range(1, 1001)]\n",
        "    even_numbers = [num for num in numbers if num % 2 == 0]\n",
        "    return even_numbers\n",
        "\n",
        "filter_even_numbers()\n",
        "```\n",
        "\n"
      ],
      "metadata": {
        "id": "knDokinMXQ3_"
      }
    },
    {
      "cell_type": "markdown",
      "source": [
        "\n",
        "\n",
        "```\n",
        "def string_concatenation_example():\n",
        "    result = \"\"\n",
        "    for i in range(10000):\n",
        "        result += str(i)\n",
        "    return result\n",
        "\n",
        "print(string_concatenation_example())\n",
        "```\n",
        "\n"
      ],
      "metadata": {
        "id": "NyVgOX4ZpTuA"
      }
    },
    {
      "cell_type": "code",
      "source": [
        "from typing import Tuple\n",
        "import os\n",
        "import tempfile\n",
        "from io import StringIO\n",
        "import cProfile\n",
        "import pstats\n",
        "from line_profiler import LineProfiler\n",
        "from memory_profiler import memory_usage\n",
        "import tracemalloc\n",
        "from functools import lru_cache\n",
        "from transformers import AutoModelForCausalLM, AutoTokenizer\n",
        "import gradio as gr\n",
        "\n",
        "# Load optimized CodeGen model and tokenizer\n",
        "model_name = \"codeparrot/codeparrot-small\"\n",
        "model = AutoModelForCausalLM.from_pretrained(model_name)\n",
        "tokenizer = AutoTokenizer.from_pretrained(model_name)\n",
        "\n",
        "# Function to detect errors and suggest fixes using CodeGen\n",
        "def detect_and_correct_code(code: str) -> str:\n",
        "    inputs = tokenizer(code, return_tensors=\"pt\")\n",
        "    outputs = model.generate(inputs[\"input_ids\"], max_length=150)\n",
        "    corrected_code = tokenizer.decode(outputs[0], skip_special_tokens=True)\n",
        "    return corrected_code\n",
        "\n",
        "# Profiling functions\n",
        "\n",
        "def profile_code_with_line_profiler(code: str) -> str:\n",
        "    profiler = LineProfiler()\n",
        "    try:\n",
        "        exec(code)\n",
        "    except Exception as e:\n",
        "        return f\"Error executing code: {str(e)}\"\n",
        "    profiler.enable_by_count()\n",
        "    exec(code)  # You can optimize by reducing repetitive execution here\n",
        "    profiler.disable_by_count()\n",
        "    s = StringIO()\n",
        "    profiler.print_stats(stream=s)\n",
        "    return s.getvalue()\n",
        "\n",
        "def profile_code_with_cprofile(code: str) -> str:\n",
        "    profiler = cProfile.Profile()\n",
        "    profiler.enable()\n",
        "    try:\n",
        "        exec(code)\n",
        "    except Exception as e:\n",
        "        return f\"Error executing code: {str(e)}\"\n",
        "    profiler.disable()\n",
        "    s = StringIO()\n",
        "    ps = pstats.Stats(profiler, stream=s)\n",
        "    ps.sort_stats('cumulative').print_stats()\n",
        "    return s.getvalue()\n",
        "\n",
        "# Static code analysis function using flake8\n",
        "def static_code_analysis_with_flake8(code: str) -> str:\n",
        "    # Add your Flake8 logic here\n",
        "    pass\n",
        "\n",
        "# Analyze performance and suggest optimizations\n",
        "@lru_cache(maxsize=32)\n",
        "def analyze_performance(code: str) -> Tuple[str, str, str, str, str, str]:\n",
        "    if not code.strip():\n",
        "        return \"Please provide some code to analyze.\", \"\", \"\", \"\", \"\", \"\"\n",
        "\n",
        "    # Start profiling\n",
        "    profile_output = profile_code_with_line_profiler(code)\n",
        "    cprofile_output = profile_code_with_cprofile(code)\n",
        "    memory_output = profile_memory_with_tracemalloc(code)\n",
        "    flake8_output = static_code_analysis_with_flake8(code)\n",
        "    library_suggestions = suggest_libraries(code)\n",
        "    corrected_code = detect_and_correct_code(code)\n",
        "\n",
        "    # Real-time feedback for user\n",
        "    real_time_feedback = f\"### Real-Time Feedback:\\n\"\n",
        "    real_time_feedback += \"**Code Profiling Insights:**\\n\"\n",
        "    real_time_feedback += \"1. Line Profiler Report: Identifies which lines in your code take the longest to execute.\\n\"\n",
        "    real_time_feedback += \"2. CProfile Report: Shows function-level performance data.\\n\"\n",
        "    real_time_feedback += \"3. Memory Usage: Analyzes memory consumption during execution.\\n\"\n",
        "    real_time_feedback += \"4. Static Code Analysis: Check for errors, warnings, or inefficiencies.\\n\"\n",
        "    real_time_feedback += f\"**Issues Detected in Your Code:**\\n{flake8_output}\\n\"\n",
        "\n",
        "    # Description of code optimizations\n",
        "    optimization_explanation = \"\"\"\n",
        "    ### How the Corrected Code is Better:\n",
        "\n",
        "    1. **Performance Improvements:**\n",
        "    The corrected code has been optimized for performance by removing unnecessary operations, reducing time complexity, and simplifying logic.\n",
        "\n",
        "    2. **Memory Efficiency:**\n",
        "    Memory usage has been reduced by optimizing data structures, avoiding unnecessary allocations, and streamlining variable handling.\n",
        "\n",
        "    3. **Readability and Maintainability:**\n",
        "    The AI-corrected code uses clearer variable names, better structure, and follows best coding practices for readability. This makes the code easier to maintain and extend.\n",
        "    \"\"\"\n",
        "\n",
        "    return profile_output, cprofile_output, memory_output, flake8_output, library_suggestions, corrected_code, real_time_feedback, optimization_explanation\n",
        "\n",
        "# Gradio interface function\n",
        "def gradio_interface(code_snippet: str) -> Tuple[str, str, str, str, str, str, str, str]:\n",
        "    profile_output, cprofile_output, memory_output, flake8_output, library_suggestions, corrected_code, real_time_feedback, optimization_explanation = analyze_performance(code_snippet)\n",
        "\n",
        "    return (\n",
        "        f\"### **Line Profiler Report**\\n{profile_output}\",\n",
        "        f\"### **CProfile Report**\\n{cprofile_output}\",\n",
        "        f\"### **Memory Usage**\\n{memory_output}\",\n",
        "        f\"### **Static Code Analysis (Flake8)**\\n{flake8_output}\",\n",
        "        f\"### **Optimization Suggestions**\\n{library_suggestions}\",\n",
        "        f\"### **Corrected Code**\\n```python\\n{corrected_code}\\n```\",\n",
        "        real_time_feedback,\n",
        "        optimization_explanation\n",
        "    )\n",
        "\n",
        "# Gradio Interface\n",
        "iface = gr.Interface(\n",
        "    fn=gradio_interface,\n",
        "    inputs=gr.Textbox(\n",
        "        lines=10,\n",
        "        placeholder=\"Enter Python code here...\",\n",
        "        label=\"Input Code\"\n",
        "    ),\n",
        "    outputs=[\n",
        "        gr.Markdown(label=\"Line Profiler Report\"),\n",
        "        gr.Markdown(label=\"CProfile Report\"),\n",
        "        gr.Markdown(label=\"Memory Usage\"),\n",
        "        gr.Markdown(label=\"Static Analysis (Flake8)\"),\n",
        "        gr.Markdown(label=\"Optimization Suggestions\"),\n",
        "        gr.Markdown(label=\"Corrected Code\"),\n",
        "        gr.Markdown(label=\"Real-Time Feedback\"),\n",
        "        gr.Markdown(label=\"Optimization Explanation\"),\n",
        "    ],\n",
        "    title=\"Enhanced AI Code Profiler and Optimizer\",\n",
        "    description=\"\"\"Analyze and optimize your Python code:\n",
        "\n",
        "    - **Profiling Reports**: Line-by-line and overall performance analysis.\n",
        "    - **Memory Usage**: Peak memory usage details.\n",
        "    - **Static Analysis**: Flake8-based error and warning checks.\n",
        "    - **Optimization Suggestions**: Recommendations for improving code efficiency.\n",
        "    - **Corrected Code**: AI-generated fixes or optimizations.\"\"\"\n",
        ")\n",
        "\n",
        "# Launch the Gradio interface\n",
        "iface.launch()\n",
        "\n"
      ],
      "metadata": {
        "colab": {
          "base_uri": "https://localhost:8080/",
          "height": 626
        },
        "id": "A_FKP-WRkyau",
        "outputId": "946c3403-acb5-40be-ebd3-3456c8147c96"
      },
      "execution_count": 14,
      "outputs": [
        {
          "output_type": "stream",
          "name": "stdout",
          "text": [
            "Running Gradio in a Colab notebook requires sharing enabled. Automatically setting `share=True` (you can turn this off by setting `share=False` in `launch()` explicitly).\n",
            "\n",
            "Colab notebook detected. To show errors in colab notebook, set debug=True in launch()\n",
            "* Running on public URL: https://73f9a75b57027b8845.gradio.live\n",
            "\n",
            "This share link expires in 72 hours. For free permanent hosting and GPU upgrades, run `gradio deploy` from the terminal in the working directory to deploy to Hugging Face Spaces (https://huggingface.co/spaces)\n"
          ]
        },
        {
          "output_type": "display_data",
          "data": {
            "text/plain": [
              "<IPython.core.display.HTML object>"
            ],
            "text/html": [
              "<div><iframe src=\"https://73f9a75b57027b8845.gradio.live\" width=\"100%\" height=\"500\" allow=\"autoplay; camera; microphone; clipboard-read; clipboard-write;\" frameborder=\"0\" allowfullscreen></iframe></div>"
            ]
          },
          "metadata": {}
        },
        {
          "output_type": "execute_result",
          "data": {
            "text/plain": []
          },
          "metadata": {},
          "execution_count": 14
        }
      ]
    },
    {
      "cell_type": "markdown",
      "source": [
        "---\n",
        "\n",
        "### **Code Explanation**\n",
        "\n",
        "- **Model Initialization**:\n",
        "  - Loads a pre-trained **CodeGen** model from Hugging Face to correct and optimize code snippets.\n",
        "\n",
        "- **`detect_and_correct_code` Function**:\n",
        "  - Uses the model to generate corrected versions of the provided code by identifying errors and offering suggestions.\n",
        "\n",
        "- **`profile_code_with_line_profiler` Function**:\n",
        "  - Profiles the code line-by-line to identify which lines take the most time to execute, helping to spot performance bottlenecks.\n",
        "\n",
        "- **`profile_code_with_cprofile` Function**:\n",
        "  - Uses **CProfile** to profile the overall function-level performance of the code, showing which functions consume the most resources.\n",
        "\n",
        "- **`static_code_analysis_with_flake8` Function**:\n",
        "  - Intended to run **flake8**, a static code analysis tool, to check for syntax errors, warnings, or inefficiencies (currently a placeholder).\n",
        "\n",
        "- **`analyze_performance` Function**:\n",
        "  - Combines the profiling and analysis functions to provide detailed insights into code performance, memory usage, and error detection.\n",
        "\n",
        "- **`gradio_interface` Function**:\n",
        "  - Defines the user interface with **Gradio**, allowing users to input code and receive feedback on performance, suggestions, and AI-generated corrections.\n",
        "\n",
        "- **Gradio Interface**:\n",
        "  - Sets up and launches the interactive Gradio interface to display profiling results, optimization suggestions, and corrected code.\n",
        "\n",
        "---\n",
        "\n",
        "### **Personal Experience with Gradio & Hugging Face**\n",
        "\n",
        "I explored **Gradio** and **Hugging Face** during my participation in the **Microsoft AI Learning Hackathon**. Gradio helped me create an intuitive user interface, while Hugging Face’s **CodeGen** model enabled AI-driven code analysis and optimization.\n",
        "\n",
        "---\n",
        "\n"
      ],
      "metadata": {
        "id": "8wZEb45OpOq9"
      }
    },
    {
      "cell_type": "code",
      "source": [],
      "metadata": {
        "id": "ADgXlU69bStB"
      },
      "execution_count": 14,
      "outputs": []
    }
  ]
}